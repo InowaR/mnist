{
  "nbformat": 4,
  "nbformat_minor": 0,
  "metadata": {
    "colab": {
      "provenance": [],
      "authorship_tag": "ABX9TyO1Cd7QS5S8oDNVOR0dg9i/",
      "include_colab_link": true
    },
    "kernelspec": {
      "name": "python3",
      "display_name": "Python 3"
    },
    "language_info": {
      "name": "python"
    }
  },
  "cells": [
    {
      "cell_type": "markdown",
      "metadata": {
        "id": "view-in-github",
        "colab_type": "text"
      },
      "source": [
        "<a href=\"https://colab.research.google.com/github/InowaR/mnist/blob/main/mnist.ipynb\" target=\"_parent\"><img src=\"https://colab.research.google.com/assets/colab-badge.svg\" alt=\"Open In Colab\"/></a>"
      ]
    },
    {
      "cell_type": "code",
      "execution_count": 17,
      "metadata": {
        "colab": {
          "base_uri": "https://localhost:8080/",
          "height": 1000
        },
        "id": "zFFK0J85t82x",
        "outputId": "64738d90-a577-499e-a3c3-3e254f0cbd78"
      },
      "outputs": [
        {
          "name": "stdout",
          "output_type": "stream",
          "text": [
            "Choose a random image from dataset\n",
            "Enter q to exit\n",
            "\n",
            "Enter a number (0 - 59999):\n",
            "12\n"
          ]
        },
        {
          "output_type": "display_data",
          "data": {
            "text/plain": [
              "<Figure size 640x480 with 1 Axes>"
            ],
            "image/png": "[encoded data removed]"
          },
          "metadata": {}
        },
        {
          "name": "stdout",
          "output_type": "stream",
          "text": [
            "Choose a random image from dataset\n",
            "Enter q to exit\n",
            "\n",
            "Enter a number (0 - 59999):\n",
            "34\n"
          ]
        },
        {
          "output_type": "display_data",
          "data": {
            "text/plain": [
              "<Figure size 640x480 with 1 Axes>"
            ],
            "image/png": "[encoded data removed]"
          },
          "metadata": {}
        },
        {
          "output_type": "stream",
          "name": "stdout",
          "text": [
            "Choose a random image from dataset\n",
            "Enter q to exit\n",
            "\n",
            "Enter a number (0 - 59999):\n",
            "q\n",
            "Exit\n"
          ]
        }
      ],
      "source": [
        "import numpy as np\n",
        "import matplotlib.pyplot as plt\n",
        "import pickle\n",
        "\n",
        "def load_dataset():\n",
        "  with np.load(\"mnist.npz\") as f:\n",
        "    x_train = f['x_train'].astype(\"float32\") / 255\n",
        "    x_train = np.reshape(x_train, (x_train.shape[0], x_train.shape[1] * x_train.shape[2]))\n",
        "    y_train = f['y_train']\n",
        "    y_train = np.eye(10)[y_train]\n",
        "    return x_train, y_train\n",
        "\n",
        "images, labels = load_dataset()\n",
        "\n",
        "def train():\n",
        "  w_i_h = np.random.uniform(-0.5, 0.5, (20, 784))\n",
        "  w_h_o = np.random.uniform(-0.5, 0.5, (10, 20))\n",
        "  b_i_h = np.zeros((20, 1))\n",
        "  b_h_o = np.zeros((10, 1))\n",
        "\n",
        "  learn_rate = 0.01\n",
        "  nr_correct = 0\n",
        "  loss = 0\n",
        "  epochs = 3\n",
        "\n",
        "  print(\"Training starts\")\n",
        "  print(\"-----------------\")\n",
        "  for epoch in range(epochs):\n",
        "    for image, label in zip(images, labels):\n",
        "      image = np.reshape(image, (-1, 1))\n",
        "      label = np.reshape(label, (-1, 1))\n",
        "\n",
        "      h_pre = b_i_h + w_i_h @ image\n",
        "      h = 1 / (1 + np.exp(-h_pre))\n",
        "\n",
        "      o_pre = b_h_o + w_h_o @ h\n",
        "      o = 1 / (1 + np.exp(-o_pre))\n",
        "\n",
        "      loss += 1 / len(o) * np.sum((o - label) ** 2, axis=0)\n",
        "      nr_correct += int(np.argmax(o) == np.argmax(label))\n",
        "\n",
        "      delta_o = o - label\n",
        "      w_h_o += -learn_rate * delta_o @ np.transpose(h)\n",
        "      b_h_o += -learn_rate * delta_o\n",
        "\n",
        "      delta_h = np.transpose(w_h_o) @ delta_o * (h * (1 - h))\n",
        "      w_i_h += -learn_rate * delta_h @ np.transpose(image)\n",
        "      b_i_h += -learn_rate * delta_h\n",
        "\n",
        "    print(f\"Loss: {round((loss[0] / images.shape[0]) * 100, 2)}%\")\n",
        "    print(f\"Accuracy: {round((nr_correct / images.shape[0]) * 100, 2)}%\")\n",
        "    nr_correct = 0\n",
        "    loss = 0\n",
        "\n",
        "  weights = w_i_h, w_h_o, b_i_h, b_h_o\n",
        "  with open('weights.txt', 'wb') as out:\n",
        "    pickle.dump(weights, out)\n",
        "  print(\"-----------------\")\n",
        "  print(\"Weights are saved\")\n",
        "\n",
        "\n",
        "def test():\n",
        "  with open('weights.txt', 'rb') as weights:\n",
        "    w_i_h, w_h_o, b_i_h, b_h_o = pickle.load(weights)\n",
        "\n",
        "  while True:\n",
        "    print(\"Choose a random image from dataset\")\n",
        "    print(\"Enter q to exit\\n\")\n",
        "    enter = input(\"Enter a number (0 - 59999):\\n\")\n",
        "    if enter == \"q\":\n",
        "      break\n",
        "    index = int(enter)\n",
        "    image = images[index]\n",
        "    plt.imshow(image.reshape(28, 28), cmap=\"Greys\")\n",
        "    image.shape += (1,)\n",
        "\n",
        "    h_pre = b_i_h + w_i_h @ image.reshape(784, 1)\n",
        "    h = 1 / (1 + np.exp(-h_pre))\n",
        "\n",
        "    o_pre = b_h_o + w_h_o @ h\n",
        "    o = 1 / (1 + np.exp(-o_pre))\n",
        "\n",
        "    plt.title(f\"Prediction: {o.argmax()}\")\n",
        "    plt.show()\n",
        "\n",
        "  print(\"Exit\")\n",
        "\n",
        "\n",
        "# train()\n",
        "test()"
      ]
    }
  ]
}